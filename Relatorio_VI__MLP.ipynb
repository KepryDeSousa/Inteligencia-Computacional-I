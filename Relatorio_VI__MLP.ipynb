{
  "nbformat": 4,
  "nbformat_minor": 0,
  "metadata": {
    "colab": {
      "provenance": [],
      "authorship_tag": "ABX9TyOCIHn+LI4Ksx57VtP3O/Hm",
      "include_colab_link": true
    },
    "kernelspec": {
      "name": "python3",
      "display_name": "Python 3"
    },
    "language_info": {
      "name": "python"
    }
  },
  "cells": [
    {
      "cell_type": "markdown",
      "metadata": {
        "id": "view-in-github",
        "colab_type": "text"
      },
      "source": [
        "<a href=\"https://colab.research.google.com/github/KepryDeSousa/Inteligencia-Computacional-I/blob/main/Relatorio_VI__MLP.ipynb\" target=\"_parent\"><img src=\"https://colab.research.google.com/assets/colab-badge.svg\" alt=\"Open In Colab\"/></a>"
      ]
    },
    {
      "cell_type": "markdown",
      "source": [
        "\n",
        "\n",
        "# Relatorio V: *Redes Multicamadas*\n",
        "> Aluno : Jarom Kepri de Sousa M.\n",
        ">\n",
        "> Curso: Engenharia de Energias\n",
        "\n",
        "Desafio:\n",
        "> Implemente um sistema de controle para o motor CC com função de transferência da equação 18 do material anexo.\n",
        ">\n",
        ">através da estimação da função de transferência inversa da planta utilizando uma rede MLP.\n",
        ">\n",
        ">Defina os hiperparâmatros da rede, por tentativa e erro, deixando expresso quais o limites inferiores e superiores da faixa de variação escolhida pra essa busca, assim como o número de medições anteriores necessárias para se obter um bom resultado de modelagem.\n",
        "\n",
        " \n",
        "\n"
      ],
      "metadata": {
        "id": "VOXvmwZTtBGa"
      }
    },
    {
      "cell_type": "code",
      "source": [
        "!pip install tensorflow"
      ],
      "metadata": {
        "id": "o_dBFZVdOEfa"
      },
      "execution_count": null,
      "outputs": []
    },
    {
      "cell_type": "code",
      "source": [
        "import numpy as np\n",
        "from scipy import signal\n",
        "import matplotlib.pyplot as plt\n",
        "from sklearn.model_selection import train_test_split\n",
        "from sklearn.preprocessing import MinMaxScaler\n",
        "from tensorflow.keras.models import Sequential\n",
        "from tensorflow.keras.layers import Dense\n",
        "from tensorflow.keras.optimizers import Adam\n",
        "from tensorflow.keras.losses import MeanSquaredError\n",
        "\n",
        "# Dados dos parâmetros do motor CC\n",
        "vi_max = 30.0  # Volts\n",
        "Ia_max = 2.0  # Amperes\n",
        "Ra = 3.0  # Ohms\n",
        "La = 6.0e-3  # Henries\n",
        "Ki = 50.0e-3  # Nm/A\n",
        "T_nominal = 0.1  # Newton-metro\n",
        "Jm = 40.0e-6  # Kg*m^2\n",
        "Bm = 40.0e-6  # Kg*m^2/s\n",
        "w_nominal = 300.0  # Radianos/s\n",
        "\n",
        "def planta(vi):\n",
        "    Kp = Ki / (Ra * La)\n",
        "    num = [Kp]\n",
        "    den = [La * Jm, (La * Bm + Ra * Jm), (Ra * Bm + Kp ** 2)]\n",
        "    _, a, _ = signal.lsim((num, den), vi, np.linspace(0, len(vi), len(vi)))\n",
        "    return a\n",
        "\n",
        "#   Banco\n",
        "np.random.seed(0)\n",
        "N = 1000\n",
        "vi = np.random.uniform(0, vi_max, N)\n",
        "torque = planta(vi)\n",
        "\n",
        "#\n",
        "X_train, X_test, y_train, y_test = train_test_split(vi, torque, test_size=0.2, random_state=0)\n",
        "\n",
        "# Pré-processament Sigmoid\n",
        "scaler = MinMaxScaler(feature_range=(-1, 1))\n",
        "X_train = scaler.fit_transform(X_train.reshape(-1, 1))\n",
        "X_test = scaler.transform(X_test.reshape(-1, 1))\n",
        "\n",
        "# Sigmoid\n",
        "model_sigmoid = Sequential()\n",
        "model_sigmoid.add(Dense(15, activation='sigmoid', input_shape=(1,)))\n",
        "model_sigmoid.add(Dense(15, activation='sigmoid'))\n",
        "model_sigmoid.add(Dense(1))\n",
        "\n",
        "# ReLU\n",
        "model_relu = Sequential()\n",
        "model_relu.add(Dense(15, activation='relu', input_shape=(1,)))\n",
        "model_relu.add(Dense(15, activation='relu'))\n",
        "model_relu.add(Dense(1))\n",
        "\n",
        "# modelos\n",
        "model_sigmoid.compile(optimizer=Adam(learning_rate=0.01), loss=MeanSquaredError())\n",
        "model_relu.compile(optimizer=Adam(learning_rate=0.01), loss=MeanSquaredError())\n",
        "\n",
        "\n",
        "history_sigmoid = model_sigmoid.fit(X_train, y_train, epochs=30, validation_data=(X_test, y_test), verbose=1)\n",
        "history_relu = model_relu.fit(X_train, y_train, epochs=30, validation_data=(X_test, y_test), verbose=1)\n",
        "\n",
        "# Plot do gráfico de treinamento\n",
        "plt.figure(figsize=(8, 6))\n",
        "plt.plot(history_sigmoid.history['loss'], label='Sigmoid - Treinamento')\n",
        "plt.plot(history_sigmoid.history['val_loss'], label='Sigmoid - Validação ')\n",
        "plt.plot(history_relu.history['loss'], label='ReLU - Treinamento ')\n",
        "plt.plot(history_relu.history['val_loss'], label='ReLU - Validação')\n",
        "plt.xlabel('Epocas')\n",
        "plt.ylabel('Erro')\n",
        "plt.legend()\n",
        "plt.grid(True)\n",
        "plt.show()\n",
        "\n"
      ],
      "metadata": {
        "colab": {
          "base_uri": "https://localhost:8080/",
          "height": 1000
        },
        "id": "l7PDbIT8L356",
        "outputId": "cc543032-80fc-4b80-a866-82b307f9b7f4"
      },
      "execution_count": 22,
      "outputs": [
        {
          "output_type": "stream",
          "name": "stdout",
          "text": [
            "Epoch 1/30\n",
            "25/25 [==============================] - 1s 5ms/step - loss: 23.5981 - val_loss: 12.2653\n",
            "Epoch 2/30\n",
            "25/25 [==============================] - 0s 2ms/step - loss: 10.5999 - val_loss: 9.8503\n",
            "Epoch 3/30\n",
            "25/25 [==============================] - 0s 2ms/step - loss: 9.3152 - val_loss: 9.6470\n",
            "Epoch 4/30\n",
            "25/25 [==============================] - 0s 3ms/step - loss: 8.7550 - val_loss: 8.5454\n",
            "Epoch 5/30\n",
            "25/25 [==============================] - 0s 2ms/step - loss: 7.4674 - val_loss: 6.6538\n",
            "Epoch 6/30\n",
            "25/25 [==============================] - 0s 2ms/step - loss: 5.1617 - val_loss: 3.8241\n",
            "Epoch 7/30\n",
            "25/25 [==============================] - 0s 3ms/step - loss: 2.5043 - val_loss: 1.3933\n",
            "Epoch 8/30\n",
            "25/25 [==============================] - 0s 2ms/step - loss: 0.8464 - val_loss: 0.4632\n",
            "Epoch 9/30\n",
            "25/25 [==============================] - 0s 3ms/step - loss: 0.3876 - val_loss: 0.3040\n",
            "Epoch 10/30\n",
            "25/25 [==============================] - 0s 2ms/step - loss: 0.3208 - val_loss: 0.2764\n",
            "Epoch 11/30\n",
            "25/25 [==============================] - 0s 3ms/step - loss: 0.2963 - val_loss: 0.2586\n",
            "Epoch 12/30\n",
            "25/25 [==============================] - 0s 3ms/step - loss: 0.2746 - val_loss: 0.2422\n",
            "Epoch 13/30\n",
            "25/25 [==============================] - 0s 2ms/step - loss: 0.2624 - val_loss: 0.2376\n",
            "Epoch 14/30\n",
            "25/25 [==============================] - 0s 3ms/step - loss: 0.2434 - val_loss: 0.2118\n",
            "Epoch 15/30\n",
            "25/25 [==============================] - 0s 2ms/step - loss: 0.2300 - val_loss: 0.1980\n",
            "Epoch 16/30\n",
            "25/25 [==============================] - 0s 2ms/step - loss: 0.2195 - val_loss: 0.1852\n",
            "Epoch 17/30\n",
            "25/25 [==============================] - 0s 2ms/step - loss: 0.2098 - val_loss: 0.1781\n",
            "Epoch 18/30\n",
            "25/25 [==============================] - 0s 2ms/step - loss: 0.1953 - val_loss: 0.1612\n",
            "Epoch 19/30\n",
            "25/25 [==============================] - 0s 3ms/step - loss: 0.1861 - val_loss: 0.1537\n",
            "Epoch 20/30\n",
            "25/25 [==============================] - 0s 3ms/step - loss: 0.1772 - val_loss: 0.1391\n",
            "Epoch 21/30\n",
            "25/25 [==============================] - 0s 2ms/step - loss: 0.1686 - val_loss: 0.1402\n",
            "Epoch 22/30\n",
            "25/25 [==============================] - 0s 2ms/step - loss: 0.1597 - val_loss: 0.1236\n",
            "Epoch 23/30\n",
            "25/25 [==============================] - 0s 2ms/step - loss: 0.1497 - val_loss: 0.1208\n",
            "Epoch 24/30\n",
            "25/25 [==============================] - 0s 6ms/step - loss: 0.1451 - val_loss: 0.1035\n",
            "Epoch 25/30\n",
            "25/25 [==============================] - 0s 4ms/step - loss: 0.1342 - val_loss: 0.0948\n",
            "Epoch 26/30\n",
            "25/25 [==============================] - 0s 4ms/step - loss: 0.1277 - val_loss: 0.0866\n",
            "Epoch 27/30\n",
            "25/25 [==============================] - 0s 6ms/step - loss: 0.1182 - val_loss: 0.0785\n",
            "Epoch 28/30\n",
            "25/25 [==============================] - 0s 4ms/step - loss: 0.1124 - val_loss: 0.0721\n",
            "Epoch 29/30\n",
            "25/25 [==============================] - 0s 6ms/step - loss: 0.1060 - val_loss: 0.0677\n",
            "Epoch 30/30\n",
            "25/25 [==============================] - 0s 5ms/step - loss: 0.0995 - val_loss: 0.0586\n",
            "Epoch 1/30\n",
            "25/25 [==============================] - 1s 6ms/step - loss: 26.8762 - val_loss: 9.6527\n",
            "Epoch 2/30\n",
            "25/25 [==============================] - 0s 2ms/step - loss: 2.8678 - val_loss: 0.4021\n",
            "Epoch 3/30\n",
            "25/25 [==============================] - 0s 2ms/step - loss: 0.3762 - val_loss: 0.2276\n",
            "Epoch 4/30\n",
            "25/25 [==============================] - 0s 2ms/step - loss: 0.1688 - val_loss: 0.1228\n",
            "Epoch 5/30\n",
            "25/25 [==============================] - 0s 2ms/step - loss: 0.1126 - val_loss: 0.0670\n",
            "Epoch 6/30\n",
            "25/25 [==============================] - 0s 2ms/step - loss: 0.0848 - val_loss: 0.0434\n",
            "Epoch 7/30\n",
            "25/25 [==============================] - 0s 2ms/step - loss: 0.0707 - val_loss: 0.0304\n",
            "Epoch 8/30\n",
            "25/25 [==============================] - 0s 3ms/step - loss: 0.0646 - val_loss: 0.0239\n",
            "Epoch 9/30\n",
            "25/25 [==============================] - 0s 3ms/step - loss: 0.0595 - val_loss: 0.0179\n",
            "Epoch 10/30\n",
            "25/25 [==============================] - 0s 2ms/step - loss: 0.0568 - val_loss: 0.0145\n",
            "Epoch 11/30\n",
            "25/25 [==============================] - 0s 2ms/step - loss: 0.0545 - val_loss: 0.0129\n",
            "Epoch 12/30\n",
            "25/25 [==============================] - 0s 2ms/step - loss: 0.0529 - val_loss: 0.0119\n",
            "Epoch 13/30\n",
            "25/25 [==============================] - 0s 3ms/step - loss: 0.0526 - val_loss: 0.0093\n",
            "Epoch 14/30\n",
            "25/25 [==============================] - 0s 3ms/step - loss: 0.0515 - val_loss: 0.0101\n",
            "Epoch 15/30\n",
            "25/25 [==============================] - 0s 2ms/step - loss: 0.0502 - val_loss: 0.0074\n",
            "Epoch 16/30\n",
            "25/25 [==============================] - 0s 2ms/step - loss: 0.0495 - val_loss: 0.0067\n",
            "Epoch 17/30\n",
            "25/25 [==============================] - 0s 3ms/step - loss: 0.0489 - val_loss: 0.0060\n",
            "Epoch 18/30\n",
            "25/25 [==============================] - 0s 2ms/step - loss: 0.0478 - val_loss: 0.0061\n",
            "Epoch 19/30\n",
            "25/25 [==============================] - 0s 2ms/step - loss: 0.0492 - val_loss: 0.0053\n",
            "Epoch 20/30\n",
            "25/25 [==============================] - 0s 2ms/step - loss: 0.0488 - val_loss: 0.0044\n",
            "Epoch 21/30\n",
            "25/25 [==============================] - 0s 3ms/step - loss: 0.0471 - val_loss: 0.0043\n",
            "Epoch 22/30\n",
            "25/25 [==============================] - 0s 2ms/step - loss: 0.0466 - val_loss: 0.0049\n",
            "Epoch 23/30\n",
            "25/25 [==============================] - 0s 2ms/step - loss: 0.0472 - val_loss: 0.0046\n",
            "Epoch 24/30\n",
            "25/25 [==============================] - 0s 3ms/step - loss: 0.0467 - val_loss: 0.0032\n",
            "Epoch 25/30\n",
            "25/25 [==============================] - 0s 3ms/step - loss: 0.0486 - val_loss: 0.0028\n",
            "Epoch 26/30\n",
            "25/25 [==============================] - 0s 3ms/step - loss: 0.0469 - val_loss: 0.0028\n",
            "Epoch 27/30\n",
            "25/25 [==============================] - 0s 3ms/step - loss: 0.0475 - val_loss: 0.0026\n",
            "Epoch 28/30\n",
            "25/25 [==============================] - 0s 3ms/step - loss: 0.0456 - val_loss: 0.0022\n",
            "Epoch 29/30\n",
            "25/25 [==============================] - 0s 3ms/step - loss: 0.0457 - val_loss: 0.0045\n",
            "Epoch 30/30\n",
            "25/25 [==============================] - 0s 3ms/step - loss: 0.0462 - val_loss: 0.0046\n"
          ]
        },
        {
          "output_type": "display_data",
          "data": {
            "text/plain": [
              "<Figure size 800x600 with 1 Axes>"
            ],
            "image/png": "[encoded data removed]"
          },
          "metadata": {}
        }
      ]
    },
    {
      "cell_type": "markdown",
      "source": [
        "temos o erro no treinamento, e a validação de que o erro está baixando ao passar das epocas."
      ],
      "metadata": {
        "id": "cCztePwMQ6J5"
      }
    },
    {
      "cell_type": "code",
      "source": [
        "import pandas as pd\n",
        "\n",
        "  #  RPM - Sigmoid\n",
        "velocidade_angular_rad_s_sigmoid = model_sigmoid.predict(X_test)  # Obter a velocidade angular em rad/s\n",
        "RPM_sigmoid = velocidade_angular_rad_s_sigmoid * (60 / (2 * np.pi))  # Converter para RPM\n",
        "RPM_sigmoid = pd.DataFrame(RPM_sigmoid)\n",
        "# RPM -  ReLU\n",
        "velocidade_angular_rad_s_relu = model_relu.predict(X_test)  # Obter a velocidade angular em rad/s\n",
        "RPM_relu = velocidade_angular_rad_s_relu * (60 / (2 * np.pi))  # Converter para RPM\n",
        "RPM_relu = pd.DataFrame(RPM_relu)\n",
        "\n",
        "print(f\"Sigmoid Min - max: {RPM_sigmoid.values.min()} - {RPM_sigmoid.values.max()}\")\n",
        "print(f\"Relu Min - max: {RPM_relu.values.min()} - {RPM_relu.values.max()}\")\n"
      ],
      "metadata": {
        "colab": {
          "base_uri": "https://localhost:8080/"
        },
        "id": "NpKv9aidrFaW",
        "outputId": "1ba1b8c0-fce7-45ca-e2cb-f5ca782a77f6"
      },
      "execution_count": 16,
      "outputs": [
        {
          "output_type": "stream",
          "name": "stdout",
          "text": [
            "7/7 [==============================] - 0s 1ms/step\n",
            "7/7 [==============================] - 0s 1ms/step\n",
            "Sigmoid Min - max: 1.6144710779190063 - 99.78478240966797\n",
            "Relu Min - max: 1.9516363143920898 - 101.38530731201172\n"
          ]
        }
      ]
    },
    {
      "cell_type": "markdown",
      "source": [
        "## Referencias:  \n",
        "> https://www.citisystems.com.br/motor-cc/\n",
        ">\n",
        ">https://iaexpert.academy/2018/05/17/deep-learning-redes-neurais-com-keras-e-python/\n",
        ">\n"
      ],
      "metadata": {
        "id": "qKvugCWpw3eb"
      }
    }
  ]
}